{
 "cells": [
  {
   "cell_type": "code",
   "execution_count": null,
   "id": "1385adbc",
   "metadata": {},
   "outputs": [],
   "source": [
    "\n",
    "import pandas as pd\n",
    "2\n",
    "import yfinance as yf\n",
    "3\n",
    "import datetime\n",
    "4\n",
    "from datetime import date, timedelta\n",
    "5\n",
    "import plotly.graph_objects as go\n",
    "6\n",
    "import plotly.express as px\n",
    "7\n",
    "​\n",
    "8\n",
    "today = date.today()\n",
    "9\n",
    "​\n",
    "10\n",
    "d1 = today.strftime(\"%Y-%m-%d\")\n",
    "11\n",
    "end_date = d1\n",
    "12\n",
    "d2 = date.today() - timedelta(days=365)\n",
    "13\n",
    "d2 = d2.strftime(\"%Y-%m-%d\")\n",
    "14\n",
    "start_date = d2\n",
    "15\n",
    "​\n",
    "16\n",
    "data = yf.download('GOOG', \n",
    "17\n",
    "                      start=start_date, \n",
    "18\n",
    "                      end=end_date, \n",
    "19\n",
    "                      progress=False)\n",
    "20\n",
    "data[\"Date\"] = data.index\n",
    "21\n",
    "data = data[[\"Date\", \"Open\", \"High\", \"Low\", \n",
    "22\n",
    "             \"Close\", \"Adj Close\", \"Volume\"]]\n",
    "23\n",
    "data.reset_index(drop=True, inplace=True)\n",
    "24\n",
    "print(data.head())\n"
   ]
  }
 ],
 "metadata": {
  "kernelspec": {
   "display_name": "Python 3 (ipykernel)",
   "language": "python",
   "name": "python3"
  },
  "language_info": {
   "codemirror_mode": {
    "name": "ipython",
    "version": 3
   },
   "file_extension": ".py",
   "mimetype": "text/x-python",
   "name": "python",
   "nbconvert_exporter": "python",
   "pygments_lexer": "ipython3",
   "version": "3.9.12"
  }
 },
 "nbformat": 4,
 "nbformat_minor": 5
}
